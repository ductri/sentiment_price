{
 "cells": [
  {
   "cell_type": "code",
   "execution_count": 1,
   "metadata": {},
   "outputs": [],
   "source": [
    "import sys\n",
    "sys.path.append('/source/main')"
   ]
  },
  {
   "cell_type": "code",
   "execution_count": 2,
   "metadata": {},
   "outputs": [],
   "source": [
    "import pandas as pd\n",
    "\n",
    "from naruto_skills.voc import Voc\n"
   ]
  },
  {
   "cell_type": "code",
   "execution_count": 3,
   "metadata": {},
   "outputs": [],
   "source": [
    "df = pd.read_csv('/source/main/data_for_train/output/my_train.csv')"
   ]
  },
  {
   "cell_type": "code",
   "execution_count": 4,
   "metadata": {},
   "outputs": [
    {
     "data": {
      "text/plain": [
       "(1531381, 2)"
      ]
     },
     "execution_count": 4,
     "metadata": {},
     "output_type": "execute_result"
    }
   ],
   "source": [
    "df.shape"
   ]
  },
  {
   "cell_type": "code",
   "execution_count": 5,
   "metadata": {},
   "outputs": [],
   "source": [
    "df.dropna(inplace=True)"
   ]
  },
  {
   "cell_type": "code",
   "execution_count": 6,
   "metadata": {},
   "outputs": [
    {
     "data": {
      "text/html": [
       "<div>\n",
       "<style scoped>\n",
       "    .dataframe tbody tr th:only-of-type {\n",
       "        vertical-align: middle;\n",
       "    }\n",
       "\n",
       "    .dataframe tbody tr th {\n",
       "        vertical-align: top;\n",
       "    }\n",
       "\n",
       "    .dataframe thead th {\n",
       "        text-align: right;\n",
       "    }\n",
       "</style>\n",
       "<table border=\"1\" class=\"dataframe\">\n",
       "  <thead>\n",
       "    <tr style=\"text-align: right;\">\n",
       "      <th></th>\n",
       "      <th>tgt</th>\n",
       "      <th>src</th>\n",
       "    </tr>\n",
       "  </thead>\n",
       "  <tbody>\n",
       "    <tr>\n",
       "      <th>1495441</th>\n",
       "      <td>rạn san hô chắn bờ</td>\n",
       "      <td>ran san ho chan bo</td>\n",
       "    </tr>\n",
       "    <tr>\n",
       "      <th>52569</th>\n",
       "      <td>một phương pháp hành động chống ngoại xâm khác...</td>\n",
       "      <td>mot phuong phap hanh dong chong ngoai xam khac...</td>\n",
       "    </tr>\n",
       "    <tr>\n",
       "      <th>646348</th>\n",
       "      <td>để thực hiện được mục tiêu trên , bộ tài chính...</td>\n",
       "      <td>de thuc hien duoc muc tieu tren , bo tai chinh...</td>\n",
       "    </tr>\n",
       "    <tr>\n",
       "      <th>1321831</th>\n",
       "      <td>chỉ mới cuối năm numpatt bộ xử lý 1ghz dường n...</td>\n",
       "      <td>chi moi cuoi nam numpatt bo xu ly 1ghz duong n...</td>\n",
       "    </tr>\n",
       "    <tr>\n",
       "      <th>212887</th>\n",
       "      <td>anh là một giáo viên dạy nhạc tại trường trung...</td>\n",
       "      <td>anh la mot giao vien day nhac tai truong trung...</td>\n",
       "    </tr>\n",
       "    <tr>\n",
       "      <th>937830</th>\n",
       "      <td>đặc biệt , chỉ trong ngày numpatt và numpatt /...</td>\n",
       "      <td>dac biet , chi trong ngay numpatt va numpatt /...</td>\n",
       "    </tr>\n",
       "    <tr>\n",
       "      <th>506771</th>\n",
       "      <td>ngoài ra , hai nhãn hàng tài trợ decolgen và c...</td>\n",
       "      <td>ngoai ra , hai nhan hang tai tro decolgen va c...</td>\n",
       "    </tr>\n",
       "    <tr>\n",
       "      <th>886753</th>\n",
       "      <td>liên bộ họp tìm sự thật việc tăng giá sữa .</td>\n",
       "      <td>lien bo hop tim su that viec tang gia sua .</td>\n",
       "    </tr>\n",
       "    <tr>\n",
       "      <th>1413391</th>\n",
       "      <td>parasenecio leucocephalus là một loài thực vật...</td>\n",
       "      <td>parasenecio leucocephalus la mot loai thuc vat...</td>\n",
       "    </tr>\n",
       "    <tr>\n",
       "      <th>1233312</th>\n",
       "      <td>trong thời gian tới , chúng tôi sẽ tiếp tục đó...</td>\n",
       "      <td>trong thoi gian toi , chung toi se tiep tuc do...</td>\n",
       "    </tr>\n",
       "  </tbody>\n",
       "</table>\n",
       "</div>"
      ],
      "text/plain": [
       "                                                       tgt  \\\n",
       "1495441                                 rạn san hô chắn bờ   \n",
       "52569    một phương pháp hành động chống ngoại xâm khác...   \n",
       "646348   để thực hiện được mục tiêu trên , bộ tài chính...   \n",
       "1321831  chỉ mới cuối năm numpatt bộ xử lý 1ghz dường n...   \n",
       "212887   anh là một giáo viên dạy nhạc tại trường trung...   \n",
       "937830   đặc biệt , chỉ trong ngày numpatt và numpatt /...   \n",
       "506771   ngoài ra , hai nhãn hàng tài trợ decolgen và c...   \n",
       "886753         liên bộ họp tìm sự thật việc tăng giá sữa .   \n",
       "1413391  parasenecio leucocephalus là một loài thực vật...   \n",
       "1233312  trong thời gian tới , chúng tôi sẽ tiếp tục đó...   \n",
       "\n",
       "                                                       src  \n",
       "1495441                                 ran san ho chan bo  \n",
       "52569    mot phuong phap hanh dong chong ngoai xam khac...  \n",
       "646348   de thuc hien duoc muc tieu tren , bo tai chinh...  \n",
       "1321831  chi moi cuoi nam numpatt bo xu ly 1ghz duong n...  \n",
       "212887   anh la mot giao vien day nhac tai truong trung...  \n",
       "937830   dac biet , chi trong ngay numpatt va numpatt /...  \n",
       "506771   ngoai ra , hai nhan hang tai tro decolgen va c...  \n",
       "886753         lien bo hop tim su that viec tang gia sua .  \n",
       "1413391  parasenecio leucocephalus la mot loai thuc vat...  \n",
       "1233312  trong thoi gian toi , chung toi se tiep tuc do...  "
      ]
     },
     "execution_count": 6,
     "metadata": {},
     "output_type": "execute_result"
    }
   ],
   "source": [
    "df.sample(10)"
   ]
  },
  {
   "cell_type": "markdown",
   "metadata": {
    "heading_collapsed": true
   },
   "source": [
    "# Vocab for src"
   ]
  },
  {
   "cell_type": "code",
   "execution_count": 7,
   "metadata": {
    "hidden": true
   },
   "outputs": [],
   "source": [
    "voc = Voc('src')\n",
    "voc.space_char = ' '\n",
    "voc.tokenize_func = str.split\n",
    "for doc in df['src']:\n",
    "    voc.add_sentence(doc)"
   ]
  },
  {
   "cell_type": "code",
   "execution_count": 8,
   "metadata": {
    "hidden": true
   },
   "outputs": [
    {
     "data": {
      "text/plain": [
       "280421"
      ]
     },
     "execution_count": 8,
     "metadata": {},
     "output_type": "execute_result"
    }
   ],
   "source": [
    "len(voc.word2count)"
   ]
  },
  {
   "cell_type": "markdown",
   "metadata": {
    "hidden": true
   },
   "source": [
    "## Trim out infrequent vocabs"
   ]
  },
  {
   "cell_type": "code",
   "execution_count": 9,
   "metadata": {
    "hidden": true
   },
   "outputs": [],
   "source": [
    "freq = [(k, v) for k, v in voc.word2count.items() ]\n",
    "freq.sort(key=lambda x: x[1], reverse=True)"
   ]
  },
  {
   "cell_type": "code",
   "execution_count": 10,
   "metadata": {
    "collapsed": true,
    "hidden": true
   },
   "outputs": [
    {
     "data": {
      "text/plain": [
       "[('pasteur', 117),\n",
       " ('party', 117),\n",
       " ('5/6', 117),\n",
       " ('hemidactylus', 117),\n",
       " ('gardner', 117),\n",
       " ('mus', 117),\n",
       " ('hagel', 117),\n",
       " ('vuu', 117),\n",
       " ('bryan', 117),\n",
       " ('hc', 117),\n",
       " ('lead', 117),\n",
       " ('africana', 117),\n",
       " ('celtic', 116),\n",
       " ('pallida', 116),\n",
       " ('ballad', 116),\n",
       " ('drepanosticta', 116),\n",
       " ('bruce', 116),\n",
       " ('leptotyphlopidae', 116),\n",
       " ('drama', 116),\n",
       " ('gp', 116),\n",
       " ('microsd', 116),\n",
       " ('id', 116),\n",
       " ('revo', 116),\n",
       " ('mou', 116),\n",
       " ('valeton', 116),\n",
       " ('romney', 116),\n",
       " ('neville', 116),\n",
       " ('k-pop', 116),\n",
       " ('apodidae', 116),\n",
       " ('tal', 116),\n",
       " ('harrison', 116),\n",
       " ('argentea', 116),\n",
       " ('dichaea', 116),\n",
       " ('nicholas', 116),\n",
       " ('levante', 116),\n",
       " ('cercopithecidae', 116),\n",
       " ('amd', 115),\n",
       " ('vanilla', 115),\n",
       " ('sochi', 115),\n",
       " ('prain', 115),\n",
       " ('heterophylla', 115),\n",
       " ('claoxylon', 115),\n",
       " ('8/8', 115),\n",
       " ('fryxell', 115),\n",
       " ('hungund', 115),\n",
       " ('tcm', 115),\n",
       " ('uniflora', 115),\n",
       " ('singh', 115),\n",
       " ('ditassa', 115),\n",
       " ('chart', 115),\n",
       " ('philippe', 115),\n",
       " ('seri', 115),\n",
       " ('samson', 115),\n",
       " ('neoregelia', 115),\n",
       " ('decipiens', 115),\n",
       " ('tncn', 115),\n",
       " ('darren', 115),\n",
       " ('aquino', 115),\n",
       " ('bvdk', 115),\n",
       " ('faisal', 114),\n",
       " ('xhcn', 114),\n",
       " ('diamond', 114),\n",
       " ('dischidia', 114),\n",
       " ('gleason', 114),\n",
       " ('pycreus', 114),\n",
       " ('himalaya', 114),\n",
       " ('potamogetonaceae', 114),\n",
       " ('philadelphia', 114),\n",
       " ('honnali', 114),\n",
       " ('nich', 114),\n",
       " ('sandy', 114),\n",
       " ('monarchidae', 114),\n",
       " ('aragatsotn', 114),\n",
       " ('ðuc', 114),\n",
       " ('pvf', 114),\n",
       " ('1kg', 114),\n",
       " ('steyermarkii', 114),\n",
       " ('schmidt', 114),\n",
       " ('oled', 114),\n",
       " ('ptth', 113),\n",
       " ('aurad', 113),\n",
       " ('hongkong', 113),\n",
       " ('kyrgyzstan', 113),\n",
       " ('pctn', 113),\n",
       " ('coprosma', 113),\n",
       " ('pitbull', 113),\n",
       " ('dactylorhiza', 113),\n",
       " ('eib', 113),\n",
       " ('audio', 113),\n",
       " ('pgd', 113),\n",
       " ('cavendishia', 113),\n",
       " ('sumatra', 113),\n",
       " ('guillaume', 113),\n",
       " ('year', 113),\n",
       " ('bad', 113),\n",
       " ('longiflora', 113),\n",
       " ('xue', 113),\n",
       " ('liberia', 113),\n",
       " ('citharexylum', 113),\n",
       " ('mi-', 113)]"
      ]
     },
     "execution_count": 10,
     "metadata": {},
     "output_type": "execute_result"
    }
   ],
   "source": [
    "freq[4000:4100]"
   ]
  },
  {
   "cell_type": "code",
   "execution_count": 11,
   "metadata": {
    "hidden": true
   },
   "outputs": [
    {
     "name": "stdout",
     "output_type": "stream",
     "text": [
      "keep_words 4576 / 280421 = 0.0163\n"
     ]
    }
   ],
   "source": [
    "voc.trim(100)"
   ]
  },
  {
   "cell_type": "markdown",
   "metadata": {
    "heading_collapsed": true,
    "hidden": true
   },
   "source": [
    "## Clean vocab"
   ]
  },
  {
   "cell_type": "code",
   "execution_count": 12,
   "metadata": {
    "hidden": true
   },
   "outputs": [
    {
     "data": {
      "text/plain": [
       "4576"
      ]
     },
     "execution_count": 12,
     "metadata": {},
     "output_type": "execute_result"
    }
   ],
   "source": [
    "len(voc.word2index)"
   ]
  },
  {
   "cell_type": "code",
   "execution_count": 13,
   "metadata": {
    "hidden": true
   },
   "outputs": [],
   "source": [
    "def is_alpha(tok):\n",
    "    if len(tok) == 1:\n",
    "        return True\n",
    "    return all([c.isalpha() for c in tok])\n",
    "\n",
    "def is_valid_len(tok):\n",
    "    return len(tok) <= 7\n",
    "\n",
    "def is_valid_token(tok):\n",
    "    if not is_alpha(tok):\n",
    "        return False\n",
    "    if not is_valid_len(tok):\n",
    "        return False\n",
    "    return True"
   ]
  },
  {
   "cell_type": "code",
   "execution_count": 14,
   "metadata": {
    "hidden": true
   },
   "outputs": [],
   "source": [
    "vocabs = [vocab for vocab in voc.word2index if is_valid_token(vocab)]"
   ]
  },
  {
   "cell_type": "code",
   "execution_count": 15,
   "metadata": {
    "hidden": true
   },
   "outputs": [
    {
     "data": {
      "text/plain": [
       "3517"
      ]
     },
     "execution_count": 15,
     "metadata": {},
     "output_type": "execute_result"
    }
   ],
   "source": [
    "len(vocabs)"
   ]
  },
  {
   "cell_type": "code",
   "execution_count": 16,
   "metadata": {
    "hidden": true
   },
   "outputs": [],
   "source": [
    "del voc"
   ]
  },
  {
   "cell_type": "code",
   "execution_count": 17,
   "metadata": {
    "hidden": true
   },
   "outputs": [],
   "source": [
    "voc = Voc('src')\n",
    "voc.space_char = ' '\n",
    "voc.tokenize_func = str.split\n",
    "voc.add_sentence(' '.join(vocabs))"
   ]
  },
  {
   "cell_type": "code",
   "execution_count": 18,
   "metadata": {
    "hidden": true
   },
   "outputs": [
    {
     "data": {
      "text/plain": [
       "3517"
      ]
     },
     "execution_count": 18,
     "metadata": {},
     "output_type": "execute_result"
    }
   ],
   "source": [
    "len(voc.word2index)"
   ]
  },
  {
   "cell_type": "code",
   "execution_count": 19,
   "metadata": {
    "hidden": true
   },
   "outputs": [
    {
     "data": {
      "text/plain": [
       "3519"
      ]
     },
     "execution_count": 19,
     "metadata": {},
     "output_type": "execute_result"
    }
   ],
   "source": [
    "len(voc.index2word)"
   ]
  },
  {
   "cell_type": "code",
   "execution_count": 20,
   "metadata": {
    "hidden": true
   },
   "outputs": [
    {
     "data": {
      "text/plain": [
       "26"
      ]
     },
     "execution_count": 20,
     "metadata": {},
     "output_type": "execute_result"
    }
   ],
   "source": [
    "voc.word2index['.']"
   ]
  },
  {
   "cell_type": "code",
   "execution_count": 21,
   "metadata": {
    "hidden": true
   },
   "outputs": [
    {
     "name": "stdout",
     "output_type": "stream",
     "text": [
      "Done\n"
     ]
    }
   ],
   "source": [
    "voc.dump('/source/main/vocab/output/src.json')\n",
    "print('Done')\n",
    "del voc"
   ]
  },
  {
   "cell_type": "markdown",
   "metadata": {
    "heading_collapsed": true
   },
   "source": [
    "# Vocab for tgt"
   ]
  },
  {
   "cell_type": "code",
   "execution_count": 22,
   "metadata": {
    "hidden": true
   },
   "outputs": [],
   "source": [
    "voc = Voc('tgt')\n",
    "voc.space_char = ' '\n",
    "voc.tokenize_func = str.split\n",
    "for doc in df['tgt']:\n",
    "    voc.add_sentence(doc)"
   ]
  },
  {
   "cell_type": "code",
   "execution_count": 23,
   "metadata": {
    "hidden": true
   },
   "outputs": [
    {
     "data": {
      "text/plain": [
       "293291"
      ]
     },
     "execution_count": 23,
     "metadata": {},
     "output_type": "execute_result"
    }
   ],
   "source": [
    "len(voc.word2count)"
   ]
  },
  {
   "cell_type": "markdown",
   "metadata": {
    "heading_collapsed": true,
    "hidden": true
   },
   "source": [
    "## Trim out infrequent vocabs"
   ]
  },
  {
   "cell_type": "code",
   "execution_count": 24,
   "metadata": {
    "hidden": true
   },
   "outputs": [],
   "source": [
    "freq = [(k, v) for k, v in voc.word2count.items() ]\n",
    "freq.sort(key=lambda x: x[1], reverse=True)"
   ]
  },
  {
   "cell_type": "code",
   "execution_count": 33,
   "metadata": {
    "collapsed": true,
    "hidden": true
   },
   "outputs": [
    {
     "data": {
      "text/plain": [
       "[('pogonomelomys', 5),\n",
       " ('kinase', 5),\n",
       " ('betti', 5),\n",
       " ('markovic', 5),\n",
       " ('patridge', 5),\n",
       " ('bucco', 5),\n",
       " ('barangay', 5),\n",
       " ('mediplast', 5),\n",
       " ('antalyensis', 5),\n",
       " ('bow', 5),\n",
       " ('sandakanensis', 5),\n",
       " ('autocar', 5),\n",
       " ('takuma', 5),\n",
       " ('haplostichanthus', 5),\n",
       " ('kostermansiana', 5),\n",
       " ('khasianus', 5),\n",
       " ('leptocarpus', 5),\n",
       " ('-lào', 5),\n",
       " ('lamiifolia', 5),\n",
       " ('inspire', 5),\n",
       " ('heydei', 5),\n",
       " ('kubota', 5),\n",
       " ('continentalis', 5),\n",
       " ('baldschuanica', 5),\n",
       " ('cooley', 5),\n",
       " ('kimiko', 5),\n",
       " ('suberosus', 5),\n",
       " ('floweri', 5),\n",
       " ('oxyodontus', 5),\n",
       " ('caryodendron', 5),\n",
       " ('brainiest', 5),\n",
       " ('chantal', 5),\n",
       " ('campylorhamphus', 5),\n",
       " ('ielts…', 5),\n",
       " ('aleutian', 5),\n",
       " ('novae-hollandiae', 5),\n",
       " ('nạy', 5),\n",
       " ('ruwenzorii', 5),\n",
       " ('生徒会の一存', 5),\n",
       " ('nghe-nói', 5),\n",
       " ('zambesica', 5),\n",
       " ('yanga-mbiwa', 5),\n",
       " ('0:2', 5),\n",
       " ('baikiaea', 5),\n",
       " ('rags', 5),\n",
       " ('placidia', 5),\n",
       " ('-đã', 5),\n",
       " ('plica', 5),\n",
       " ('islampur', 5),\n",
       " ('thermalis', 5),\n",
       " ('ba-sa', 5),\n",
       " ('cornigerum', 5),\n",
       " ('1hcđ', 5),\n",
       " ('taisen', 5),\n",
       " ('louis-marie', 5),\n",
       " ('whipping', 5),\n",
       " ('gästrikland', 5),\n",
       " ('asperatum', 5),\n",
       " ('weakley', 5),\n",
       " ('accessorize', 5),\n",
       " ('grossmann', 5),\n",
       " ('đỏ-đen', 5),\n",
       " ('sacred', 5),\n",
       " ('centratherum', 5),\n",
       " ('pippen', 5),\n",
       " ('coenraad', 5),\n",
       " ('hiếu/vov', 5),\n",
       " ('rw', 5),\n",
       " ('beatricis', 5),\n",
       " ('mendelson', 5),\n",
       " ('lunatum', 5),\n",
       " ('vafaco', 5),\n",
       " ('placement', 5),\n",
       " ('breviculmis', 5),\n",
       " ('dienia', 5),\n",
       " ('ornithocephala', 5),\n",
       " ('vinfast', 5),\n",
       " ('ptdtbt', 5),\n",
       " ('kellman', 5),\n",
       " ('palawanense', 5),\n",
       " ('tricholaena', 5),\n",
       " ('falsistrellus', 5),\n",
       " ('robertsi', 5),\n",
       " ('/kl-ttcp', 5),\n",
       " ('kangaru', 5),\n",
       " ('phenacomys', 5),\n",
       " ('paracalyx', 5),\n",
       " ('lazy', 5),\n",
       " ('sway', 5),\n",
       " ('barem', 5),\n",
       " ('gyrocheilos', 5),\n",
       " ('chrysops', 5),\n",
       " ('vacheron', 5),\n",
       " ('winslow', 5),\n",
       " ('thunia', 5),\n",
       " ('pact', 5),\n",
       " ('lemurella', 5),\n",
       " ('arnhem', 5),\n",
       " ('toplist', 5),\n",
       " ('île-de-france', 5)]"
      ]
     },
     "execution_count": 33,
     "metadata": {},
     "output_type": "execute_result"
    }
   ],
   "source": [
    "freq[50000:50100]"
   ]
  },
  {
   "cell_type": "code",
   "execution_count": 34,
   "metadata": {
    "hidden": true
   },
   "outputs": [
    {
     "name": "stdout",
     "output_type": "stream",
     "text": [
      "keep_words 54134 / 293291 = 0.1846\n"
     ]
    }
   ],
   "source": [
    "voc.trim(5)"
   ]
  },
  {
   "cell_type": "markdown",
   "metadata": {
    "heading_collapsed": true,
    "hidden": true
   },
   "source": [
    "## Clean vocab"
   ]
  },
  {
   "cell_type": "code",
   "execution_count": 35,
   "metadata": {
    "hidden": true
   },
   "outputs": [
    {
     "data": {
      "text/plain": [
       "54134"
      ]
     },
     "execution_count": 35,
     "metadata": {},
     "output_type": "execute_result"
    }
   ],
   "source": [
    "len(voc.word2index)"
   ]
  },
  {
   "cell_type": "code",
   "execution_count": 36,
   "metadata": {
    "hidden": true
   },
   "outputs": [],
   "source": [
    "def is_alpha(tok):\n",
    "    if len(tok) == 1:\n",
    "        return True\n",
    "    return all([c.isalpha() for c in tok])\n",
    "\n",
    "def is_valid_len(tok):\n",
    "    return len(tok) <= 7\n",
    "\n",
    "def is_valid_token(tok):\n",
    "    if not is_alpha(tok):\n",
    "        return False\n",
    "    if not is_valid_len(tok):\n",
    "        return False\n",
    "    return True"
   ]
  },
  {
   "cell_type": "code",
   "execution_count": 37,
   "metadata": {
    "hidden": true
   },
   "outputs": [],
   "source": [
    "vocabs = [vocab for vocab in voc.word2index if is_valid_token(vocab)]"
   ]
  },
  {
   "cell_type": "code",
   "execution_count": 38,
   "metadata": {
    "hidden": true
   },
   "outputs": [
    {
     "data": {
      "text/plain": [
       "31183"
      ]
     },
     "execution_count": 38,
     "metadata": {},
     "output_type": "execute_result"
    }
   ],
   "source": [
    "len(vocabs)"
   ]
  },
  {
   "cell_type": "code",
   "execution_count": 42,
   "metadata": {
    "hidden": true
   },
   "outputs": [],
   "source": [
    "del voc"
   ]
  },
  {
   "cell_type": "code",
   "execution_count": 43,
   "metadata": {
    "hidden": true
   },
   "outputs": [],
   "source": [
    "voc = Voc('tgt')\n",
    "voc.space_char = ' '\n",
    "voc.tokenize_func = str.split\n",
    "voc.add_sentence(' '.join(vocabs))"
   ]
  },
  {
   "cell_type": "code",
   "execution_count": 44,
   "metadata": {
    "hidden": true
   },
   "outputs": [
    {
     "data": {
      "text/plain": [
       "31183"
      ]
     },
     "execution_count": 44,
     "metadata": {},
     "output_type": "execute_result"
    }
   ],
   "source": [
    "len(voc.word2index)"
   ]
  },
  {
   "cell_type": "code",
   "execution_count": 45,
   "metadata": {
    "hidden": true
   },
   "outputs": [
    {
     "data": {
      "text/plain": [
       "31185"
      ]
     },
     "execution_count": 45,
     "metadata": {},
     "output_type": "execute_result"
    }
   ],
   "source": [
    "len(voc.index2word)"
   ]
  },
  {
   "cell_type": "code",
   "execution_count": 46,
   "metadata": {
    "hidden": true
   },
   "outputs": [
    {
     "data": {
      "text/plain": [
       "26"
      ]
     },
     "execution_count": 46,
     "metadata": {},
     "output_type": "execute_result"
    }
   ],
   "source": [
    "voc.word2index['.']"
   ]
  },
  {
   "cell_type": "code",
   "execution_count": 47,
   "metadata": {
    "hidden": true
   },
   "outputs": [
    {
     "name": "stdout",
     "output_type": "stream",
     "text": [
      "Done\n"
     ]
    }
   ],
   "source": [
    "voc.dump('/source/main/vocab/output/tgt.json')\n",
    "print('Done')\n",
    "del voc"
   ]
  },
  {
   "cell_type": "code",
   "execution_count": null,
   "metadata": {
    "hidden": true
   },
   "outputs": [],
   "source": []
  }
 ],
 "metadata": {
  "kernelspec": {
   "display_name": "Python 3",
   "language": "python",
   "name": "python3"
  },
  "language_info": {
   "codemirror_mode": {
    "name": "ipython",
    "version": 3
   },
   "file_extension": ".py",
   "mimetype": "text/x-python",
   "name": "python",
   "nbconvert_exporter": "python",
   "pygments_lexer": "ipython3",
   "version": "3.6.8"
  }
 },
 "nbformat": 4,
 "nbformat_minor": 2
}
