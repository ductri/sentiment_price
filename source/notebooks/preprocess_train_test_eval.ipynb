{
 "cells": [
  {
   "cell_type": "code",
   "execution_count": 1,
   "metadata": {},
   "outputs": [],
   "source": [
    "import sys\n",
    "sys.path.append('/source/main')"
   ]
  },
  {
   "cell_type": "code",
   "execution_count": 2,
   "metadata": {},
   "outputs": [],
   "source": [
    "import ast\n",
    "import matplotlib.pyplot as plt\n",
    "\n",
    "import pandas as pd\n",
    "pd.set_option('display.max_colwidth', -1)\n",
    "\n",
    "from preprocess import preprocessor\n",
    "RANDOM_STATE = 42"
   ]
  },
  {
   "cell_type": "code",
   "execution_count": null,
   "metadata": {},
   "outputs": [],
   "source": []
  },
  {
   "cell_type": "code",
   "execution_count": 3,
   "metadata": {},
   "outputs": [],
   "source": [
    "def preprocess_df(df):\n",
    "    df.dropna(inplace=True)\n",
    "    df.drop_duplicates(inplace=True)\n",
    "    df['mention'] = preprocessor.train_preprocess(df['mention'], max_length=100)\n",
    "    return df\n"
   ]
  },
  {
   "cell_type": "code",
   "execution_count": 4,
   "metadata": {},
   "outputs": [
    {
     "name": "stdout",
     "output_type": "stream",
     "text": [
      "(461036, 4)\n"
     ]
    }
   ],
   "source": [
    "df_train = pd.read_csv('/source/main/data_download/output/train.csv')\n",
    "df_train.dropna(inplace=True)\n",
    "df_train.drop_duplicates(inplace=True)\n",
    "df_train = preprocess_df(df_train)\n",
    "df_train.to_csv('/source/main/data_for_train/output/train.csv', index=None)\n",
    "print(df_train.shape)"
   ]
  },
  {
   "cell_type": "code",
   "execution_count": 5,
   "metadata": {},
   "outputs": [
    {
     "name": "stdout",
     "output_type": "stream",
     "text": [
      "(10000, 4)\n"
     ]
    }
   ],
   "source": [
    "df_eval = pd.read_csv('/source/main/data_download/output/eval.csv')\n",
    "df_eval.dropna(inplace=True)\n",
    "df_eval.drop_duplicates(inplace=True)\n",
    "df_eval = preprocess_df(df_eval)\n",
    "df_eval.to_csv('/source/main/data_for_train/output/eval.csv', index=None)\n",
    "print(df_eval.shape)"
   ]
  },
  {
   "cell_type": "code",
   "execution_count": 6,
   "metadata": {},
   "outputs": [
    {
     "name": "stdout",
     "output_type": "stream",
     "text": [
      "(10000, 4)\n"
     ]
    }
   ],
   "source": [
    "df_test = pd.read_csv('/source/main/data_download/output/test.csv')\n",
    "df_test.dropna(inplace=True)\n",
    "df_test.drop_duplicates(inplace=True)\n",
    "df_test = preprocess_df(df_test)\n",
    "df_test.to_csv('/source/main/data_for_train/output/test.csv', index=None)\n",
    "print(df_test.shape)"
   ]
  },
  {
   "cell_type": "code",
   "execution_count": null,
   "metadata": {},
   "outputs": [],
   "source": []
  }
 ],
 "metadata": {
  "kernelspec": {
   "display_name": "Python 3",
   "language": "python",
   "name": "python3"
  },
  "language_info": {
   "codemirror_mode": {
    "name": "ipython",
    "version": 3
   },
   "file_extension": ".py",
   "mimetype": "text/x-python",
   "name": "python",
   "nbconvert_exporter": "python",
   "pygments_lexer": "ipython3",
   "version": "3.6.8"
  }
 },
 "nbformat": 4,
 "nbformat_minor": 2
}
