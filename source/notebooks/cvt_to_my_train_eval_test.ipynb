{
 "cells": [
  {
   "cell_type": "code",
   "execution_count": 1,
   "metadata": {},
   "outputs": [],
   "source": [
    "import sys\n",
    "sys.path.append('/source/main/')"
   ]
  },
  {
   "cell_type": "code",
   "execution_count": 2,
   "metadata": {},
   "outputs": [],
   "source": [
    "import logging\n",
    "logging.basicConfig(level=logging.INFO)\n",
    "import pandas as pd\n",
    "\n",
    "\n",
    "from utils import text_utils\n",
    "from preprocess import preprocessor"
   ]
  },
  {
   "cell_type": "code",
   "execution_count": 3,
   "metadata": {},
   "outputs": [],
   "source": [
    "MAX_LENGTH = 100 "
   ]
  },
  {
   "cell_type": "code",
   "execution_count": 4,
   "metadata": {},
   "outputs": [
    {
     "name": "stderr",
     "output_type": "stream",
     "text": [
      "INFO:root:Pre-processing done\n",
      "INFO:root:-- Some samples: \n",
      "INFO:root:-- -- diego costa đã đồng ý các điều khoản cá nhân với chelsea và đội bóng cũng đã đáp ứng điều khoản mua lại tiền đạo người brazil của atletico madrid với giá numpatt triệu bảng , điều này cho thấy rõ ràng rằng hlv jose mourinho đang rất quyết tâm trong việc cải tổ đội bóng khi mà những cầu thủ trên hàng không đáp ứng được yêu cầu của ông .\n",
      "INFO:root:-- -- numpatt h numpatt ngày numpatt / numpatt west ham vs arsenal : xóa dớp `` tháng tận '' thông tin đội hình arsenal trước cuộc đối đầu west ham west ham vs arsenal : khi chiến thắng là mệnh lệnh tuy nhiên , west ham vẫn chưa thể có sự phục vụ trở lại của andy carroll bởi chấn thương .\n",
      "INFO:root:-- -- `` bẫy cấp 3 '' tuy không có sự tham gia của các diễn viên tên tuổi nhưng bù lại , các diễn viên trẻ trong phim đều có ngoại hình cực hot như : hoàng oanh , baggio , mi minh và đặc biệt là á vương manhunt trương nam thành .\n",
      "INFO:root:-- -- ví dụ , xét cụm danh từ sau `` la douce beauté moderne '' , beauté là danh từ giống cái số ít nên mạo từ xác định phải là giống cái số ít - la , tính từ doux phải chưyển thành douce và moderne ( do tận cùng bằng -e nên không cần phải biến đổi ) .\n",
      "INFO:root:-- -- cuộc biểu tình ở ma-ri-bo thu hút sự tham gia của khoảng urlpatt người và cuộc biểu tình quy mô lớn ở thủ đô liu-bli-a-na nhằm phản đối các biện pháp khắc khổ của chính phủ như giảm lương trong khu vực nhà nước , giảm phúc lợi xã hội , tăng tuổi về hưu , giảm chi tiêu cho giáo dục và y tế .\n",
      "INFO:root:-- -- nguyên soái i . s . konev lệnh cho các tập đoàn quân xe tăng cận vệ 3 và 4 để lại các thành phố và thị trấn lớn cho các tập đoàn quân cận vệ 3 , cận vệ 5 và numpatt giải quyết , còn bản thân họ phải nhanh chóng tiến xuống phía tây praha .\n",
      "INFO:root:-- -- ông đỗ tấn long - trưởng phòng quản lý hệ thống thoát nước , trung tâm điều hành chương trình chống ngập nước urlpatt cho biết có nhiều tuyến đường thường xuyên bị ngập khi mưa lớn như : tân hóa , an dương vương , phan anh ( quận bình tân ) nguyên nhân ngập là do mưa quá lớn , nước thoát không kịp .\n",
      "INFO:root:-- -- 4 nút điều hướng bao gồm 4 tính năng chính thường thấy : nút phía trên chỉnh phơi sáng ( khẩu độ , tốc độ cửa trập ) , nút bên phải chỉnh flash , nút phía dưới chỉnh chế độ chụp liên tiếp/chụp từng tấm ( drive mode ) và hẹn giờ , nút bên trái dùng để chọn điểm lấy nét .\n",
      "INFO:root:-- -- mặc dù chi phí để mời những nhân vật viết sách , hồi ký , những nhà văn hiện đại , những cha đẻ tài chính , ngân hàng về vn khá cao , nhưng ngày nay , nhiều nhà làm sách tư nhân vẫn quyết tâm thực hiện cho bằng được .\n",
      "INFO:root:-- -- qua phản ánh của người dân , doanh nghiệp và ý kiến của đoàn giám sát quốc hội , chính phủ đã chỉ đạo bộ giao thông vận tải xử lý những bất cập về giá tại 6 trạm và rà soát tổng thể toàn bộ hệ thống trạm thu phí để đưa ra giải pháp xử lý tất cả các trạm còn lại trên toàn quốc .\n",
      "INFO:root:-- -- khoảng numpatt g ngày numpatt , tại địa phận của tiểu khu giang tân , thị trấn giang tiên , huyện phú lương , tỉnh thái nguyên , lực lượng công an tỉnh thái nguyên , huyện phú lương và thị trấn giang tân đã tạm giữ nhiều xe tải đầu kéo nghi chở chất thải độc hại qua địa bàn .\n",
      "INFO:root:-- -- ông abe tới thăm đền yasukuni biểu tượng cho chủ nghĩa quân phiệt thời chiến của nhật bản , đúng thời điểm quan hệ nhật trung đang trong giai đoạn dậy sóng quanh vấn đề tranh chấp chủ quyền quần đảo senkaku/điếu ngư trên biển hoa đông , khiến bắc kinh lên tiếng phản đối mạnh mẽ .\n",
      "INFO:root:-- -- thời gian đầu để tiện đưa đón , vợ chồng tôi đã cho cháu theo học ở một trường dân lập thuộc thành phố biên hòa , đồng nai , nhưng cháu đi học ở đây một thời gian cứ bị bệnh triền miên , nguyên nhân là dùng chung khăn lau với cá bé khác .\n",
      "INFO:root:-- -- vì vậy , đã đến lúc cần khẩn cấp nghiên cứu , ban hành danh mục các chất cấm sử dụng trong thực phẩm , đồng thời định lượng hàm lượng , mức độ độc hại của các chất để lực lượng chức năng có cơ sở vận dụng luật pháp để xử lý hình sự .\n",
      "INFO:root:-- -- rõ ràng hull city và burnley đang gặp bất lợi rất lớn nhưng như người ta vẫn nói : còn sống là còn hi vọng , chắc chắn họ sẽ chiến đấu cho đến hơi thở cuối cùng để không phải xa rời chiếc bánh béo bở mang tên premirer league .\n",
      "INFO:root:Pre-processing done\n",
      "INFO:root:-- Some samples: \n",
      "INFO:root:-- -- ngay cả khi đó là việt nam !\n",
      "INFO:root:-- -- khai mạc đại hội thể dục - thể thao tp hà nội vào ngày numpatt\n",
      "INFO:root:-- -- licuala radula là loài thực vật có hoa thuộc họ arecaceae .\n",
      "INFO:root:-- -- syzygium thomsenii là một loài thực vật có hoa trong họ đào kim nương .\n",
      "INFO:root:-- -- ( đcsvn ) thủ tướng chính phủ vừa ký quyết định numpatt /qđ-ttg , ngày numpatt / numpatt / numpatt thành lập lập ban công tác đàm phán của việt nam về biến đổi khí hậu .\n",
      "INFO:root:-- -- chưa bao giờ sông ba - con sông dài nhất miền trung bị thiếu nước trầm trọng như năm nay .\n",
      "INFO:root:-- -- bị-trở-thành-lêu-lổng những đứa trẻ `` cày '' game cả đêm lẫn ngày .\n",
      "INFO:root:-- -- nhưng bây giờ giống nòi hậu duệ của họ ở đâu mà để lại hồn thiêng của cha ông với những cảnh tượng hoang tàn không hương khói .\n",
      "INFO:root:-- -- chị catherine ( trái ) và anh parkonr ( phải ) bên cạnh chiếc focus sport+ tại nhà máy ford hải dương , chiếc focus sedan và hatchback vừa trải qua kì kiểm tra đánh giá chất lượng của chuyên gia người mỹ - chị catherine wood và chuyên gia người thái lan anh parkonr làm việc tại ford asean .\n",
      "INFO:root:-- -- khi mà đội đầu bảng leverkusen đã bị hertha berlin cầm chân numpatt trong trận đấu sớm nhất vòng .\n",
      "INFO:root:-- -- adesmia nana là một loài thực vật có hoa trong họ đậu .\n",
      "INFO:root:-- -- maxillaria edwardsii là một loài thực vật có hoa trong họ lan .\n",
      "INFO:root:-- -- nhưng vẫn rất nhiều thương lái từ khắp các tỉnh lân cận lên đây thu mua vận chuyển na về dưới xuôi để bán .\n",
      "INFO:root:-- -- mình vào website thấy học phí cũng rẻ nên đến đăng ký học luôn , học được 3 khóa rồi nhé bây giờ mình có thể tự tin nói với bạn là tiếng anh mình cực ổn .\n",
      "INFO:root:-- -- syzygium myrtoides là một loài thực vật có hoa trong họ đào kim nương .\n",
      "INFO:root:Pre-processing done\n",
      "INFO:root:-- Some samples: \n",
      "INFO:root:-- -- - nghề người mẫu hoàn toàn có thể sống với nghề vì ngoài đi diễn , chụp hình còn có công việc quảng cáo , dự even . . . linh hoàn toàn có thể sống tốt , chỉ có điều khó tiêu xài hoang phí và dùng nhiều hàng hiệu thôi .\n",
      "INFO:root:-- -- bộ trưởng lê doãn hợp kính tặng tbt bộ tem đặc biệt chủ tịch hđqt vnpt kính tặng tổng bí thư nông đức mạnh nhận album ảnh truyền thống của vnpt tổng bí thư nông đức mạnh tặng quà cho vnpt tổng bí thư nông đức mạnh phát biểu chỉ đạo và chúc vnpt tiếp tục phát huy những thành tích đã đạt được .\n",
      "INFO:root:-- -- theo dự báo , thủ tướng hy lạp george papandreou có thể thành lập một chính phủ mới nhằm thông qua các biện pháp khắc nghiệt sau khi xảy ra các cuộc tổng đình công và đụng độ giữa cảnh sát và những người biểu tình .\n",
      "INFO:root:-- -- tôi là con nhà nghèo , được học hành , có chút khiếu văn chương , viết thể nghiệm mải miết không mệt mỏi ba nhạc sĩ kể trên thuộc những người nổi tiếng , mỗi người một vẻ , một khung trời nghệ thuật , họ đích thực là những nhạc sĩ đồng quê việt nam .\n",
      "INFO:root:-- -- trần lập cặp mẫu song sinh thư huyền - huyền thư hòa minzy 2 ngôi sao việt hòa minzy và soobin hoàng sơn trương nhi kiều ngân kelbin nsưt thành lộc và don nguyễn bộ phim `` lucy '' sẽ được công chiếu từ ngày numpatt /8 tại khắp các rạp trên toàn quốc .\n",
      "INFO:root:-- -- trong một tuyên bố sau vụ thử hạt nhân , ông spicer đã phát biểu : với điểm rơi tên lửa rất gần với lãnh thổ nga thực tế là gần nga hơn là nhật bản thì tổng thống ( mỹ ) không thể hình dung ra là nước nga sẽ hài lòng ( với việc thử tên lửa của bình nhưỡng ) .\n",
      "INFO:root:-- -- bên cạnh đó , thỏa thuận này mở ra cơ hội kinh doanh và lợi nhuận mới cho at & t ; , cũng như khẳng định đà tăng trưởng mà polycom đang đạt được với các nhà cung cấp dịch vụ và trên thị trường đám mây video . ``\n",
      "INFO:root:-- -- chốt phân luồng giao thông trên đường đinh tiên hoàng ( urlpatt thạnh ) hướng xe máy vào đường trường sa để qua cầu tạm chốt phân luồng giao thông tại đầu cầu tạm bên urlpatt thạnh xe cộ thông thoáng qua cầu tạm ( q . 1 - urlpatt thạnh ) các đơn vị thực hiện việc đóng cầu bông ( q . 1- urlpatt thạnh ) xe cộ thông thoáng qua cầu tạm ( hướng chợ bình tây về phú lâm ) , sau khi cầu hậu giang , q . 6 bị đóng lại\n"
     ]
    },
    {
     "name": "stderr",
     "output_type": "stream",
     "text": [
      "INFO:root:-- -- sau khi cáo buộc manila vi phạm luật pháp quốc tế trong vụ nổ súng trên , đồng thời còn `` ngụy biện '' không chịu xin lỗi và bồi thường cho gia đình ngư dân đài loan bị thiệt mạng , la viện bắt đầu kêu gọi giới chức đài loan và trung quốc cùng `` hợp tác '' trên biển đông trên 4 lĩnh vực .\n",
      "INFO:root:-- -- ( tno ) bác sĩ trương quang định , phó giám đốc bệnh viện nhi đồng 2 ( urlpatt ) chiều nay ( urlpatt ) cho biết bệnh viện vừa phẫu thuật thành công một trường hợp bị tăng áp lực tĩnh mạch cửa , là tĩnh mạch dẫn máu từ ruột , lá lách đến gan .\n",
      "INFO:root:-- -- với những thành tích đối đầu trên , có thể dễ dàng nhận ra được sự bá đạo của malaysia tại bảng a . dù giới chuyên môn malaysia vẫn cho rằng việc vào đến bán kết và chung kết phụ thuộc chủ yếu vào thực lực , nhưng với những kết quả đối đầu trong 7 lần gần đây nhất với cả 4 đối thủ , tuyển malaysia vẫn hoàn toàn có thể tạm phần nào an tâm .\n",
      "INFO:root:-- -- ăn nhiều thịt , nhất là thịt đỏ , tích lũy trong cơ thể nhiếu chất cặn bã như urê , axit uric , tạo nguy cơ mắc bệnh gút , ung thư vì vậy , bs phúc khuyên , muốn giảm cân phải xây dựng chế độ ăn ít năng lượng , phù hợp với công việc hàng ngày .\n",
      "INFO:root:-- -- tin bão số 3 kalmaegi : sóng khổng lồ , biển động dữ dội đêm numpatt /9/ numpatt từ sáng mai ( numpatt /9 ) , vùng biển vịnh bắc bộ có gió mạnh dần lên cấp 8 , riêng khu vực bắc vịnh bắc bộ ( bao gồm cả các huyện đảo bạch long vỹ , cô tô , cát bà , cát hải ) tăng lên cấp numpatt vùng gần tâm bão đi qua cấp numpatt giật cấp numpatt sóng biển cao 7 - 9m .\n",
      "INFO:root:-- -- tiếp đó , ông định đô ở long bình , đem chùa thừa thiên sửa làm vương cung , thiết lập cơ cấu hành chính tỉnh , viện , 6 bộ , nhiệm mệnh lý hành tố làm thừa tướng , trương sĩ đức làm bình chương , tưởng huy làm hữu thừa , phan nguyên minh làm tả thừa , sử văn bỉnh làm xu mật viện đồng tri , chu nhân làm long bình thái thú .\n",
      "INFO:root:-- -- bộ ngoại giao nhật bản bác bỏ yêu cầu của singapore về xin lỗi và bồi thường vào năm numpatt nói rằng vấn đề bồi thường chiến tranh đã được giải quyết trong hiệp ước san francisco năm numpatt và khi đó singapore vẫn là một thuộc địa của anh .\n"
     ]
    }
   ],
   "source": [
    "with open('/dataset/vietnamese_tone_prediction/my_test.txt', 'rt', encoding='utf-8') as i_f:\n",
    "    lines = i_f.readlines()\n",
    "lines = [l[:-1] for l in lines]\n",
    "\n",
    "df = pd.DataFrame({'tgt': lines})\n",
    "df['tgt'] = preprocessor.train_preprocess(df['tgt'], MAX_LENGTH)\n",
    "df['src'] = df['tgt'].map(text_utils.remove_tone_line)\n",
    "df.to_csv('/source/main/data_for_train/output/my_test.csv', index=None)\n",
    "\n",
    "\n",
    "with open('/dataset/vietnamese_tone_prediction/my_train.txt', 'rt', encoding='utf-8') as i_f:\n",
    "    lines = i_f.readlines()\n",
    "lines = [l[:-1] for l in lines]\n",
    "\n",
    "df = pd.DataFrame({'tgt': lines})\n",
    "df['tgt'] = preprocessor.train_preprocess(df['tgt'], MAX_LENGTH)\n",
    "df['src'] = df['tgt'].map(text_utils.remove_tone_line)\n",
    "df.to_csv('/source/main/data_for_train/output/my_train.csv', index=None)\n",
    "\n",
    "\n",
    "with open('/dataset/vietnamese_tone_prediction/my_eval.txt', 'rt', encoding='utf-8') as i_f:\n",
    "    lines = i_f.readlines()\n",
    "lines = [l[:-1] for l in lines]\n",
    "\n",
    "df = pd.DataFrame({'tgt': lines})\n",
    "df['tgt'] = preprocessor.train_preprocess(df['tgt'], MAX_LENGTH)\n",
    "df['src'] = df['tgt'].map(text_utils.remove_tone_line)\n",
    "df.to_csv('/source/main/data_for_train/output/my_eval.csv', index=None)\n"
   ]
  },
  {
   "cell_type": "code",
   "execution_count": 5,
   "metadata": {},
   "outputs": [
    {
     "name": "stdout",
     "output_type": "stream",
     "text": [
      "Done\n"
     ]
    }
   ],
   "source": [
    "print('Done')"
   ]
  },
  {
   "cell_type": "code",
   "execution_count": null,
   "metadata": {},
   "outputs": [],
   "source": []
  }
 ],
 "metadata": {
  "kernelspec": {
   "display_name": "Python 3",
   "language": "python",
   "name": "python3"
  },
  "language_info": {
   "codemirror_mode": {
    "name": "ipython",
    "version": 3
   },
   "file_extension": ".py",
   "mimetype": "text/x-python",
   "name": "python",
   "nbconvert_exporter": "python",
   "pygments_lexer": "ipython3",
   "version": "3.6.8"
  }
 },
 "nbformat": 4,
 "nbformat_minor": 2
}
