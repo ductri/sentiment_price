{
 "cells": [
  {
   "cell_type": "code",
   "execution_count": 1,
   "metadata": {},
   "outputs": [],
   "source": [
    "import sys\n",
    "sys.path.append('/source/main')"
   ]
  },
  {
   "cell_type": "code",
   "execution_count": 2,
   "metadata": {},
   "outputs": [],
   "source": [
    "import pandas as pd\n",
    "pd.set_option('display.max_colwidth', -1)\n",
    "from sklearn.model_selection import train_test_split\n",
    "\n",
    "from utils import text_utils\n",
    "RANDOM_STATE = 42"
   ]
  },
  {
   "cell_type": "code",
   "execution_count": 3,
   "metadata": {},
   "outputs": [],
   "source": [
    "with open('/dataset/vietnamese_tone_prediction/train.txt', 'rt', encoding='utf-8') as i_f:\n",
    "    lines = i_f.readlines()"
   ]
  },
  {
   "cell_type": "code",
   "execution_count": 4,
   "metadata": {},
   "outputs": [
    {
     "data": {
      "text/plain": [
       "2126280"
      ]
     },
     "execution_count": 4,
     "metadata": {},
     "output_type": "execute_result"
    }
   ],
   "source": [
    "len(lines)"
   ]
  },
  {
   "cell_type": "code",
   "execution_count": 5,
   "metadata": {},
   "outputs": [],
   "source": [
    "lines = list(set(lines))"
   ]
  },
  {
   "cell_type": "code",
   "execution_count": 6,
   "metadata": {},
   "outputs": [
    {
     "data": {
      "text/plain": [
       "1814325"
      ]
     },
     "execution_count": 6,
     "metadata": {},
     "output_type": "execute_result"
    }
   ],
   "source": [
    "len(lines)"
   ]
  },
  {
   "cell_type": "markdown",
   "metadata": {},
   "source": [
    "# Remove all non-diacritics text"
   ]
  },
  {
   "cell_type": "code",
   "execution_count": 7,
   "metadata": {},
   "outputs": [],
   "source": [
    "df = pd.DataFrame({'src': lines})"
   ]
  },
  {
   "cell_type": "code",
   "execution_count": 8,
   "metadata": {},
   "outputs": [],
   "source": [
    "df['tgt'] = df['src'].map(text_utils.remove_tone_line)"
   ]
  },
  {
   "cell_type": "code",
   "execution_count": 9,
   "metadata": {},
   "outputs": [
    {
     "data": {
      "text/plain": [
       "(1814325, 2)"
      ]
     },
     "execution_count": 9,
     "metadata": {},
     "output_type": "execute_result"
    }
   ],
   "source": [
    "df.shape"
   ]
  },
  {
   "cell_type": "code",
   "execution_count": 10,
   "metadata": {},
   "outputs": [],
   "source": [
    "df = df[df['src'] != df['tgt']]"
   ]
  },
  {
   "cell_type": "code",
   "execution_count": 11,
   "metadata": {},
   "outputs": [
    {
     "data": {
      "text/plain": [
       "(1541381, 2)"
      ]
     },
     "execution_count": 11,
     "metadata": {},
     "output_type": "execute_result"
    }
   ],
   "source": [
    "df.shape"
   ]
  },
  {
   "cell_type": "markdown",
   "metadata": {},
   "source": [
    "# Split train, eval, test"
   ]
  },
  {
   "cell_type": "code",
   "execution_count": 12,
   "metadata": {},
   "outputs": [],
   "source": [
    "lines = list(df['src'])"
   ]
  },
  {
   "cell_type": "code",
   "execution_count": 13,
   "metadata": {},
   "outputs": [
    {
     "data": {
      "text/plain": [
       "1541381"
      ]
     },
     "execution_count": 13,
     "metadata": {},
     "output_type": "execute_result"
    }
   ],
   "source": [
    "len(lines)"
   ]
  },
  {
   "cell_type": "code",
   "execution_count": 14,
   "metadata": {},
   "outputs": [],
   "source": [
    "train, test = train_test_split(lines, test_size=10000, random_state=RANDOM_STATE)"
   ]
  },
  {
   "cell_type": "code",
   "execution_count": 15,
   "metadata": {},
   "outputs": [],
   "source": [
    "val, test = train_test_split(test, test_size=5000, random_state=RANDOM_STATE)"
   ]
  },
  {
   "cell_type": "code",
   "execution_count": 16,
   "metadata": {},
   "outputs": [
    {
     "data": {
      "text/plain": [
       "5000"
      ]
     },
     "execution_count": 16,
     "metadata": {},
     "output_type": "execute_result"
    }
   ],
   "source": [
    "len(val)"
   ]
  },
  {
   "cell_type": "code",
   "execution_count": 17,
   "metadata": {},
   "outputs": [
    {
     "data": {
      "text/plain": [
       "5000"
      ]
     },
     "execution_count": 17,
     "metadata": {},
     "output_type": "execute_result"
    }
   ],
   "source": [
    "len(test)"
   ]
  },
  {
   "cell_type": "code",
   "execution_count": 18,
   "metadata": {},
   "outputs": [
    {
     "data": {
      "text/plain": [
       "1531381"
      ]
     },
     "execution_count": 18,
     "metadata": {},
     "output_type": "execute_result"
    }
   ],
   "source": [
    "len(train)"
   ]
  },
  {
   "cell_type": "code",
   "execution_count": 19,
   "metadata": {},
   "outputs": [
    {
     "data": {
      "text/plain": [
       "['Nhiều trường hợp ở các tỉnh miền Trung, vùng miền núi xa xôi đi lại khó khăn như quê tôi nhưng cũng đã được các tổ chức đưa các liệt sỹ về quê một cách an toàn, chu đáo.\\n',\n",
       " 'Jeerigepete là một làng thuộc tehsil Gauribidanur, huyện Chikkaballapur, bang Karnataka, Ấn Độ.\\n',\n",
       " 'Ông Bảy chia sẻ: Sự vất vả của tôi, có phần đóng góp công rất lớn của bà xã.\\n']"
      ]
     },
     "execution_count": 19,
     "metadata": {},
     "output_type": "execute_result"
    }
   ],
   "source": [
    "train[:3]"
   ]
  },
  {
   "cell_type": "code",
   "execution_count": 20,
   "metadata": {},
   "outputs": [
    {
     "data": {
      "text/plain": [
       "['Sau đó hai người cùng ăn tối, Sousuke tặng cô một chiếc cốc nhân ngày sinh nhật của cô đồng thời mong cô đến ở cùng với mình.\\n',\n",
       " 'Doanh nghiệp ra quân đầu năm Sau mấy ngày nghỉ tết, nhiều đơn vị, doanh nghiệp (DN) lại khẩn trương vào ca, ra quân sản xuất đầu năm với khí thế mới.\\n',\n",
       " 'Sang năm 598 TCN, Sở Trang vương lại đánh Trịnh.\\n']"
      ]
     },
     "execution_count": 20,
     "metadata": {},
     "output_type": "execute_result"
    }
   ],
   "source": [
    "test[:3]"
   ]
  },
  {
   "cell_type": "code",
   "execution_count": 21,
   "metadata": {},
   "outputs": [
    {
     "data": {
      "text/plain": [
       "['Trong giai đoạn tham chiến, ông luôn phản ứng chậm chạp với những mệnh lệnh của thiếu tướng John Pope và bị ép chỉ huy cuộc tấn công trong tâm thế chưa chuẩn bị đầy đủ, nên đã gây tổn thất lớn cho quân đội.\\n',\n",
       " 'Mặc dù nếu xét về nhiều khía cạnh, ví dụ như trang bị vũ khí nghèo nàn, binh lính không được huấn luyện tử tế cộng với tướng tá yếu kém, lực lượng này rõ ràng là đối thủ dưới cơ của các quân đoàn La Mã.\\n',\n",
       " 'Hơn nữa hàng hậu vệ của MU đang có những chấn thương hàng loạt và có lúc Sir Alex còn phải sử dụng cả những tiền vệ như Darren Fletcher, Michael Carrick về làm hậu vệ.\\n']"
      ]
     },
     "execution_count": 21,
     "metadata": {},
     "output_type": "execute_result"
    }
   ],
   "source": [
    "val[:3]"
   ]
  },
  {
   "cell_type": "code",
   "execution_count": 22,
   "metadata": {},
   "outputs": [
    {
     "name": "stdout",
     "output_type": "stream",
     "text": [
      "Done\n"
     ]
    }
   ],
   "source": [
    "with open('/dataset/vietnamese_tone_prediction/my_train.txt', 'wt', encoding='utf-8') as o_f:\n",
    "    o_f.writelines(train)\n",
    "with open('/dataset/vietnamese_tone_prediction/my_eval.txt', 'wt', encoding='utf-8') as o_f:\n",
    "    o_f.writelines(val)\n",
    "with open('/dataset/vietnamese_tone_prediction/my_test.txt', 'wt', encoding='utf-8') as o_f:\n",
    "    o_f.writelines(test)\n",
    "print('Done')"
   ]
  },
  {
   "cell_type": "code",
   "execution_count": null,
   "metadata": {},
   "outputs": [],
   "source": []
  },
  {
   "cell_type": "markdown",
   "metadata": {},
   "source": [
    "# Validating"
   ]
  },
  {
   "cell_type": "code",
   "execution_count": 23,
   "metadata": {},
   "outputs": [],
   "source": [
    "with open('/dataset/vietnamese_tone_prediction/test.txt', 'rt', encoding='utf-8') as i_f:\n",
    "    btc_test = i_f.readlines()\n",
    "btc_test = [l[4:] for l in btc_test]\n",
    "df_btc_test = pd.DataFrame({0: btc_test})\n",
    "\n",
    "with open('/dataset/vietnamese_tone_prediction/my_test.txt', 'rt', encoding='utf-8') as i_f:\n",
    "    my_test = i_f.readlines()\n",
    "df_my_test = pd.DataFrame({0: my_test})\n",
    "\n",
    "df_btc_test['len'] = df_btc_test[0].map(len)\n",
    "df_my_test['len'] = df_my_test[0].map(len)"
   ]
  },
  {
   "cell_type": "code",
   "execution_count": 24,
   "metadata": {},
   "outputs": [],
   "source": [
    "import matplotlib.pyplot as plt\n",
    "plt.style.use('seaborn-white')"
   ]
  },
  {
   "cell_type": "code",
   "execution_count": 25,
   "metadata": {},
   "outputs": [
    {
     "data": {
      "image/png": "[encoded data removed]",
      "text/plain": [
       "<Figure size 720x360 with 2 Axes>"
      ]
     },
     "metadata": {
      "needs_background": "light"
     },
     "output_type": "display_data"
    }
   ],
   "source": [
    "fig = plt.figure(figsize=(10, 5))\n",
    "fig.subplots_adjust(hspace=0.5)\n",
    "ax = fig.add_subplot(2, 1, 1)\n",
    "ax.hist(df_btc_test['len'], bins=100)\n",
    "ax.set(title='btc', xlim=(0, 800))\n",
    "\n",
    "ax = fig.add_subplot(2, 1, 2)\n",
    "ax.hist(df_my_test['len'], bins=100)\n",
    "ax.set(title='mine', xlim=(0, 800))\n",
    "\n",
    "plt.show()"
   ]
  },
  {
   "cell_type": "markdown",
   "metadata": {},
   "source": [
    "## Comment\n",
    "Length distribution of given test set is far different from given train\n",
    "\n",
    "--> We need an adjustment to align our test with given test"
   ]
  },
  {
   "cell_type": "code",
   "execution_count": 26,
   "metadata": {},
   "outputs": [
    {
     "data": {
      "text/plain": [
       "count    8240.000000\n",
       "mean     251.099879 \n",
       "std      55.465485  \n",
       "min      8.000000   \n",
       "25%      215.000000 \n",
       "50%      239.000000 \n",
       "75%      280.000000 \n",
       "max      770.000000 \n",
       "Name: len, dtype: float64"
      ]
     },
     "execution_count": 26,
     "metadata": {},
     "output_type": "execute_result"
    }
   ],
   "source": [
    "df_btc_test['len'].describe()"
   ]
  },
  {
   "cell_type": "code",
   "execution_count": 27,
   "metadata": {},
   "outputs": [
    {
     "data": {
      "text/plain": [
       "0.028033980582524272"
      ]
     },
     "execution_count": 27,
     "metadata": {},
     "output_type": "execute_result"
    }
   ],
   "source": [
    "df_btc_test[df_btc_test['len']<200].shape[0]/df_btc_test.shape[0]"
   ]
  },
  {
   "cell_type": "code",
   "execution_count": 28,
   "metadata": {},
   "outputs": [
    {
     "data": {
      "text/plain": [
       "0.0007281553398058253"
      ]
     },
     "execution_count": 28,
     "metadata": {},
     "output_type": "execute_result"
    }
   ],
   "source": [
    "df_btc_test[df_btc_test['len']>400].shape[0]/df_btc_test.shape[0]"
   ]
  },
  {
   "cell_type": "markdown",
   "metadata": {},
   "source": [
    "# Re-split train, test, eval"
   ]
  },
  {
   "cell_type": "code",
   "execution_count": 29,
   "metadata": {},
   "outputs": [],
   "source": [
    "df['len'] = df['src'].map(len)"
   ]
  },
  {
   "cell_type": "code",
   "execution_count": 30,
   "metadata": {},
   "outputs": [
    {
     "data": {
      "text/plain": [
       "(1541381, 3)"
      ]
     },
     "execution_count": 30,
     "metadata": {},
     "output_type": "execute_result"
    }
   ],
   "source": [
    "df.shape"
   ]
  },
  {
   "cell_type": "code",
   "execution_count": 31,
   "metadata": {},
   "outputs": [
    {
     "data": {
      "text/plain": [
       "(197130, 3)"
      ]
     },
     "execution_count": 31,
     "metadata": {},
     "output_type": "execute_result"
    }
   ],
   "source": [
    "df[df['len'] > 200].shape"
   ]
  },
  {
   "cell_type": "code",
   "execution_count": 32,
   "metadata": {},
   "outputs": [
    {
     "data": {
      "image/png": "[encoded data removed]",
      "text/plain": [
       "<Figure size 720x360 with 1 Axes>"
      ]
     },
     "metadata": {
      "needs_background": "light"
     },
     "output_type": "display_data"
    }
   ],
   "source": [
    "plt.figure(figsize=(10, 5))\n",
    "ax = plt.axes()\n",
    "ax.hist(df[df['len'] > 200]['len'], bins=500)\n",
    "ax.set(xlim=(0, 800))\n",
    "plt.show()"
   ]
  },
  {
   "cell_type": "code",
   "execution_count": 33,
   "metadata": {},
   "outputs": [],
   "source": [
    "test_eval = df[(df['len'] > 200) & (df['len']<400)].sample(int(10000*(1-0.028-0.0007)))\\\n",
    "                .append(df[df['len']<=200].sample(int(10000*0.028)))\\\n",
    "                .append(df[df['len']>400].sample(int(10000*0.0007)))"
   ]
  },
  {
   "cell_type": "code",
   "execution_count": 34,
   "metadata": {},
   "outputs": [],
   "source": [
    "test_eval_docs = set(list(test_eval['src']))\n",
    "train_docs = set(df['src']) - test_eval_docs"
   ]
  },
  {
   "cell_type": "code",
   "execution_count": 35,
   "metadata": {},
   "outputs": [],
   "source": [
    "train_docs = list(train_docs)\n",
    "test_eval_docs = list(test_eval_docs)"
   ]
  },
  {
   "cell_type": "code",
   "execution_count": 36,
   "metadata": {},
   "outputs": [],
   "source": [
    "test_docs, eval_docs = train_test_split(test_eval_docs, test_size=0.5, random_state=RANDOM_STATE)"
   ]
  },
  {
   "cell_type": "code",
   "execution_count": 37,
   "metadata": {},
   "outputs": [
    {
     "name": "stdout",
     "output_type": "stream",
     "text": [
      "Done\n"
     ]
    }
   ],
   "source": [
    "with open('/dataset/vietnamese_tone_prediction/my_train.txt', 'wt', encoding='utf-8') as o_f:\n",
    "    o_f.writelines(train_docs)\n",
    "with open('/dataset/vietnamese_tone_prediction/my_eval.txt', 'wt', encoding='utf-8') as o_f:\n",
    "    o_f.writelines(eval_docs)\n",
    "with open('/dataset/vietnamese_tone_prediction/my_test.txt', 'wt', encoding='utf-8') as o_f:\n",
    "    o_f.writelines(test_docs)\n",
    "print('Done')"
   ]
  },
  {
   "cell_type": "code",
   "execution_count": 38,
   "metadata": {},
   "outputs": [],
   "source": [
    "with open('/dataset/vietnamese_tone_prediction/test.txt', 'rt', encoding='utf-8') as i_f:\n",
    "    btc_test = i_f.readlines()\n",
    "btc_test = [l[4:] for l in btc_test]\n",
    "df_btc_test = pd.DataFrame({0: btc_test})\n",
    "\n",
    "with open('/dataset/vietnamese_tone_prediction/my_test.txt', 'rt', encoding='utf-8') as i_f:\n",
    "    my_test = i_f.readlines()\n",
    "df_my_test = pd.DataFrame({0: my_test})\n",
    "\n",
    "df_btc_test['len'] = df_btc_test[0].map(len)\n",
    "df_my_test['len'] = df_my_test[0].map(len)"
   ]
  },
  {
   "cell_type": "code",
   "execution_count": 39,
   "metadata": {},
   "outputs": [
    {
     "data": {
      "image/png": "[encoded data removed]",
      "text/plain": [
       "<Figure size 720x360 with 2 Axes>"
      ]
     },
     "metadata": {
      "needs_background": "light"
     },
     "output_type": "display_data"
    }
   ],
   "source": [
    "fig = plt.figure(figsize=(10, 5))\n",
    "fig.subplots_adjust(hspace=0.5)\n",
    "ax = fig.add_subplot(2, 1, 1)\n",
    "ax.hist(df_btc_test['len'], bins=100)\n",
    "ax.set(title='btc', xlim=(0, 800))\n",
    "\n",
    "ax = fig.add_subplot(2, 1, 2)\n",
    "ax.hist(df_my_test['len'], bins=100)\n",
    "ax.set(title='mine', xlim=(0, 800))\n",
    "\n",
    "plt.show()"
   ]
  },
  {
   "cell_type": "code",
   "execution_count": 40,
   "metadata": {},
   "outputs": [
    {
     "name": "stdout",
     "output_type": "stream",
     "text": [
      "Pretty\n"
     ]
    }
   ],
   "source": [
    "print('Pretty')"
   ]
  },
  {
   "cell_type": "code",
   "execution_count": null,
   "metadata": {},
   "outputs": [],
   "source": []
  },
  {
   "cell_type": "code",
   "execution_count": null,
   "metadata": {},
   "outputs": [],
   "source": []
  }
 ],
 "metadata": {
  "kernelspec": {
   "display_name": "Python 3",
   "language": "python",
   "name": "python3"
  },
  "language_info": {
   "codemirror_mode": {
    "name": "ipython",
    "version": 3
   },
   "file_extension": ".py",
   "mimetype": "text/x-python",
   "name": "python",
   "nbconvert_exporter": "python",
   "pygments_lexer": "ipython3",
   "version": "3.6.8"
  }
 },
 "nbformat": 4,
 "nbformat_minor": 2
}
